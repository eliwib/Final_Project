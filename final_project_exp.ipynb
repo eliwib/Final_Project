{
 "cells": [
  {
   "cell_type": "code",
   "execution_count": 5,
   "id": "6ee19f7f-7b19-40ae-96a8-246a040f0340",
   "metadata": {
    "tags": []
   },
   "outputs": [],
   "source": [
    "import numpy as np\n",
    "import matplotlib.pyplot as plt\n",
    "import pandas as pd\n",
    "import xarray as xr\n",
    "# !pip install netcdf4"
   ]
  },
  {
   "cell_type": "code",
   "execution_count": 6,
   "id": "8792be36-ec1f-444c-9250-2f5c1f2db160",
   "metadata": {
    "tags": []
   },
   "outputs": [
    {
     "data": {
      "text/html": [
       "<div>\n",
       "<style scoped>\n",
       "    .dataframe tbody tr th:only-of-type {\n",
       "        vertical-align: middle;\n",
       "    }\n",
       "\n",
       "    .dataframe tbody tr th {\n",
       "        vertical-align: top;\n",
       "    }\n",
       "\n",
       "    .dataframe thead th {\n",
       "        text-align: right;\n",
       "    }\n",
       "</style>\n",
       "<table border=\"1\" class=\"dataframe\">\n",
       "  <thead>\n",
       "    <tr style=\"text-align: right;\">\n",
       "      <th></th>\n",
       "      <th>Time(UTC)</th>\n",
       "      <th>Station</th>\n",
       "      <th>Latitude</th>\n",
       "      <th>Longitude</th>\n",
       "      <th>Depth (m)</th>\n",
       "      <th>Chlorophyll-a (µg/l)</th>\n",
       "      <th>Chlorophyll-a (Âµg/l)</th>\n",
       "    </tr>\n",
       "    <tr>\n",
       "      <th>Date</th>\n",
       "      <th></th>\n",
       "      <th></th>\n",
       "      <th></th>\n",
       "      <th></th>\n",
       "      <th></th>\n",
       "      <th></th>\n",
       "      <th></th>\n",
       "    </tr>\n",
       "  </thead>\n",
       "  <tbody>\n",
       "    <tr>\n",
       "      <th>2017-03-09</th>\n",
       "      <td>22:52:00</td>\n",
       "      <td>SH</td>\n",
       "      <td>60.673</td>\n",
       "      <td>-145.872</td>\n",
       "      <td>0</td>\n",
       "      <td>0.159</td>\n",
       "      <td>NaN</td>\n",
       "    </tr>\n",
       "    <tr>\n",
       "      <th>2017-03-09</th>\n",
       "      <td>22:52:00</td>\n",
       "      <td>SH</td>\n",
       "      <td>60.673</td>\n",
       "      <td>-145.872</td>\n",
       "      <td>5</td>\n",
       "      <td>0.219</td>\n",
       "      <td>NaN</td>\n",
       "    </tr>\n",
       "    <tr>\n",
       "      <th>2017-03-09</th>\n",
       "      <td>22:52:00</td>\n",
       "      <td>SH</td>\n",
       "      <td>60.673</td>\n",
       "      <td>-145.872</td>\n",
       "      <td>10</td>\n",
       "      <td>1.004</td>\n",
       "      <td>NaN</td>\n",
       "    </tr>\n",
       "    <tr>\n",
       "      <th>2017-03-09</th>\n",
       "      <td>22:52:00</td>\n",
       "      <td>SH</td>\n",
       "      <td>60.673</td>\n",
       "      <td>-145.872</td>\n",
       "      <td>15</td>\n",
       "      <td>0.827</td>\n",
       "      <td>NaN</td>\n",
       "    </tr>\n",
       "    <tr>\n",
       "      <th>2017-03-09</th>\n",
       "      <td>22:52:00</td>\n",
       "      <td>SH</td>\n",
       "      <td>60.673</td>\n",
       "      <td>-145.872</td>\n",
       "      <td>25</td>\n",
       "      <td>0.130</td>\n",
       "      <td>NaN</td>\n",
       "    </tr>\n",
       "    <tr>\n",
       "      <th>...</th>\n",
       "      <td>...</td>\n",
       "      <td>...</td>\n",
       "      <td>...</td>\n",
       "      <td>...</td>\n",
       "      <td>...</td>\n",
       "      <td>...</td>\n",
       "      <td>...</td>\n",
       "    </tr>\n",
       "    <tr>\n",
       "      <th>2021-11-07</th>\n",
       "      <td>14:54:00</td>\n",
       "      <td>HW</td>\n",
       "      <td>60.253</td>\n",
       "      <td>-146.889</td>\n",
       "      <td>5</td>\n",
       "      <td>NaN</td>\n",
       "      <td>0.358</td>\n",
       "    </tr>\n",
       "    <tr>\n",
       "      <th>2021-11-07</th>\n",
       "      <td>14:54:00</td>\n",
       "      <td>HW</td>\n",
       "      <td>60.253</td>\n",
       "      <td>-146.889</td>\n",
       "      <td>10</td>\n",
       "      <td>NaN</td>\n",
       "      <td>0.326</td>\n",
       "    </tr>\n",
       "    <tr>\n",
       "      <th>2021-11-07</th>\n",
       "      <td>14:54:00</td>\n",
       "      <td>HW</td>\n",
       "      <td>60.253</td>\n",
       "      <td>-146.889</td>\n",
       "      <td>15</td>\n",
       "      <td>NaN</td>\n",
       "      <td>0.315</td>\n",
       "    </tr>\n",
       "    <tr>\n",
       "      <th>2021-11-07</th>\n",
       "      <td>14:54:00</td>\n",
       "      <td>HW</td>\n",
       "      <td>60.253</td>\n",
       "      <td>-146.889</td>\n",
       "      <td>25</td>\n",
       "      <td>NaN</td>\n",
       "      <td>0.327</td>\n",
       "    </tr>\n",
       "    <tr>\n",
       "      <th>2021-11-07</th>\n",
       "      <td>14:54:00</td>\n",
       "      <td>HW</td>\n",
       "      <td>60.253</td>\n",
       "      <td>-146.889</td>\n",
       "      <td>50</td>\n",
       "      <td>NaN</td>\n",
       "      <td>0.318</td>\n",
       "    </tr>\n",
       "  </tbody>\n",
       "</table>\n",
       "<p>876 rows × 7 columns</p>\n",
       "</div>"
      ],
      "text/plain": [
       "           Time(UTC) Station  Latitude  Longitude  Depth (m)   \n",
       "Date                                                           \n",
       "2017-03-09  22:52:00      SH    60.673   -145.872          0  \\\n",
       "2017-03-09  22:52:00      SH    60.673   -145.872          5   \n",
       "2017-03-09  22:52:00      SH    60.673   -145.872         10   \n",
       "2017-03-09  22:52:00      SH    60.673   -145.872         15   \n",
       "2017-03-09  22:52:00      SH    60.673   -145.872         25   \n",
       "...              ...     ...       ...        ...        ...   \n",
       "2021-11-07  14:54:00      HW    60.253   -146.889          5   \n",
       "2021-11-07  14:54:00      HW    60.253   -146.889         10   \n",
       "2021-11-07  14:54:00      HW    60.253   -146.889         15   \n",
       "2021-11-07  14:54:00      HW    60.253   -146.889         25   \n",
       "2021-11-07  14:54:00      HW    60.253   -146.889         50   \n",
       "\n",
       "            Chlorophyll-a (µg/l)  Chlorophyll-a (Âµg/l)  \n",
       "Date                                                     \n",
       "2017-03-09                 0.159                    NaN  \n",
       "2017-03-09                 0.219                    NaN  \n",
       "2017-03-09                 1.004                    NaN  \n",
       "2017-03-09                 0.827                    NaN  \n",
       "2017-03-09                 0.130                    NaN  \n",
       "...                          ...                    ...  \n",
       "2021-11-07                   NaN                  0.358  \n",
       "2021-11-07                   NaN                  0.326  \n",
       "2021-11-07                   NaN                  0.315  \n",
       "2021-11-07                   NaN                  0.327  \n",
       "2021-11-07                   NaN                  0.318  \n",
       "\n",
       "[876 rows x 7 columns]"
      ]
     },
     "metadata": {},
     "output_type": "display_data"
    }
   ],
   "source": [
    "chlordata1 = pd.read_excel('Chla_2017_190628.xlsx',index_col='Date',parse_dates=True)\n",
    "chlordata2 = pd.read_excel('Chla_2021_221201.xlsx',index_col='Date',parse_dates=True)\n",
    "#display(chlordata1)\n",
    "#display(chlordata2)\n",
    "\n",
    "chla_data=pd.concat([chlordata1,chlordata2], axis=0)\n",
    "display(chla_data)\n",
    "#chla_data['Chlorophyll-a (µg/l)'].loc['2021-02-28':]=chla_data['Chlorophyll-a (Âµg/l)'].loc['2021-01-28':]"
   ]
  },
  {
   "cell_type": "code",
   "execution_count": 13,
   "id": "b9c190f6-80da-4b55-80e4-9b0480d7d18f",
   "metadata": {
    "tags": []
   },
   "outputs": [
    {
     "data": {
      "text/plain": [
       "[<matplotlib.axis.YTick at 0x7e1111457610>,\n",
       " <matplotlib.axis.YTick at 0x7e1111456fb0>,\n",
       " <matplotlib.axis.YTick at 0x7e1111455f60>,\n",
       " <matplotlib.axis.YTick at 0x7e111146afb0>,\n",
       " <matplotlib.axis.YTick at 0x7e111146ba60>,\n",
       " <matplotlib.axis.YTick at 0x7e1111434580>]"
      ]
     },
     "execution_count": 13,
     "metadata": {},
     "output_type": "execute_result"
    },
    {
     "data": {
      "image/png": "[encoded data removed]",
      "text/plain": [
       "<Figure size 800x800 with 1 Axes>"
      ]
     },
     "metadata": {},
     "output_type": "display_data"
    }
   ],
   "source": [
    "SH_stats=chla_data[chla_data['Station']=='SH']\n",
    "SH0=SH_stats[SH_stats['Depth (m)']==0]\n",
    "SH5=SH_stats[SH_stats['Depth (m)']==5]\n",
    "SH10=SH_stats[SH_stats['Depth (m)']==10]\n",
    "SH15=SH_stats[SH_stats['Depth (m)']==15]\n",
    "SH25=SH_stats[SH_stats['Depth (m)']==25]\n",
    "SH40=SH_stats[SH_stats['Depth (m)']==40]\n",
    "\n",
    "SH_chla0=SH0['Chlorophyll-a (µg/l)'].mean()\n",
    "SH_chla5=SH5['Chlorophyll-a (µg/l)'].mean()\n",
    "SH_chla10=SH10['Chlorophyll-a (µg/l)'].mean()\n",
    "SH_chla15=SH15['Chlorophyll-a (µg/l)'].mean()\n",
    "SH_chla25=SH25['Chlorophyll-a (µg/l)'].mean()\n",
    "SH_chla40=SH40['Chlorophyll-a (µg/l)'].mean()\n",
    "depth_nums=(0,5,10,15,25,40)\n",
    "y_pos=np.arange(len(depth_nums))\n",
    "x_vals=(SH_chla0,SH_chla5,SH_chla10,SH_chla15,SH_chla25,SH_chla40)\n",
    "fig,ax=plt.subplots(figsize=(8,8))\n",
    "ax.barh(y_pos,x_vals)\n",
    "ax.set_yticks(y_pos,labels=depth_nums)"
   ]
  },
  {
   "cell_type": "code",
   "execution_count": 14,
   "id": "51a3e717-830f-468c-9868-f5e0dee26b74",
   "metadata": {
    "tags": []
   },
   "outputs": [
    {
     "data": {
      "image/png": "[encoded data removed]",
      "text/plain": [
       "<Figure size 640x480 with 1 Axes>"
      ]
     },
     "metadata": {},
     "output_type": "display_data"
    }
   ],
   "source": [
    "\n",
    "# Sample data\n",
    "x = np.arange(5)\n",
    "y = [2, 3, 1, 4, 2]\n",
    "yerr = [0.2, 0.3, 0.1, 0.4, 0.2]\n",
    "\n",
    "# Create the plot with error bars\n",
    "plt.errorbar(x, y, yerr=yerr, fmt='o', capsize=5)\n",
    "\n",
    "# Add labels to error bars\n",
    "for i in range(len(x)):\n",
    "    plt.text(x[i], y[i] + yerr[i] + 0.1, f'{y[i]:.2f}', ha='center')\n",
    "\n",
    "plt.show()"
   ]
  },
  {
   "cell_type": "code",
   "execution_count": null,
   "id": "2ec4cdbb-4cc5-4f0a-a39e-ff131f6c4049",
   "metadata": {
    "tags": []
   },
   "outputs": [],
   "source": []
  }
 ],
 "metadata": {
  "kernelspec": {
   "display_name": "Python 3 (ipykernel)",
   "language": "python",
   "name": "python3"
  },
  "language_info": {
   "codemirror_mode": {
    "name": "ipython",
    "version": 3
   },
   "file_extension": ".py",
   "mimetype": "text/x-python",
   "name": "python",
   "nbconvert_exporter": "python",
   "pygments_lexer": "ipython3",
   "version": "3.10.10"
  }
 },
 "nbformat": 4,
 "nbformat_minor": 5
}
